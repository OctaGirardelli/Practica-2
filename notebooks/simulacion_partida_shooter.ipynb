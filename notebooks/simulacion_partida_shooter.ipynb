{
 "cells": [
  {
   "cell_type": "markdown",
   "metadata": {},
   "source": [
    "# Simulación de partidas y ranking en shooter online\n",
    "\n",
    "Se quieren simular varias partidas de un juego Shooter y generar un ranking por ronda. Cada ranking debe decir el total de kills, asistencias, muertes, cantidad de MVP(jugador con mas puntos de la ronda) y puntos totales de cada jugador. Esto debe mostrarse como una tabla ordenada por los puntos totales de forma decreciente.\n",
    "\n",
    "Se utilizará el siguiente sistema de puntuación:\n",
    "\n",
    "Kill: 3 puntos\n",
    "\n",
    "Asistencia: 1 punto\n",
    "\n",
    "Muerte: -1 punto\n",
    "\n",
    "## Importar el codigo"
   ]
  },
  {
   "cell_type": "code",
   "execution_count": null,
   "metadata": {},
   "outputs": [],
   "source": [
    "import sys\n",
    "import os\n",
    "sys.path.append(os.path.abspath(\"../src\"))\n",
    "from simulacion_partida_shooter import print_ranking,update_ranking"
   ]
  },
  {
   "cell_type": "markdown",
   "metadata": {},
   "source": [
    "## Conjunto de rondas:"
   ]
  },
  {
   "cell_type": "code",
   "execution_count": null,
   "metadata": {},
   "outputs": [],
   "source": [
    "rounds = [\n",
    "    {\n",
    "        'Shadow': {'kills': 2, 'assists': 1, 'deaths': True},\n",
    "        'Blaze': {'kills': 1, 'assists': 0, 'deaths': False},\n",
    "        'Viper': {'kills': 1, 'assists': 2, 'deaths': True},\n",
    "        'Frost': {'kills': 0, 'assists': 1, 'deaths': False},\n",
    "        'Reaper': {'kills': 1, 'assists': 1, 'deaths': False}\n",
    "    },\n",
    "    {\n",
    "        'Shadow': {'kills': 0, 'assists': 2, 'deaths': False},\n",
    "        'Blaze': {'kills': 2, 'assists': 0, 'deaths': True},\n",
    "        'Viper': {'kills': 1, 'assists': 1, 'deaths': False},\n",
    "        'Frost': {'kills': 2, 'assists': 1, 'deaths': True},\n",
    "        'Reaper': {'kills': 0, 'assists': 1, 'deaths': False}\n",
    "    },\n",
    "    {\n",
    "        'Shadow': {'kills': 1, 'assists': 0, 'deaths': False},\n",
    "        'Blaze': {'kills': 2, 'assists': 2, 'deaths': True},\n",
    "        'Viper': {'kills': 1, 'assists': 1, 'deaths': True},\n",
    "        'Frost': {'kills': 0, 'assists': 1, 'deaths': False},\n",
    "        'Reaper': {'kills': 1, 'assists': 1, 'deaths': False}\n",
    "    },\n",
    "    {\n",
    "        'Shadow': {'kills': 2, 'assists': 1, 'deaths': False},\n",
    "        'Blaze': {'kills': 1, 'assists': 0, 'deaths': True},\n",
    "        'Viper': {'kills': 0, 'assists': 2, 'deaths': False},\n",
    "        'Frost': {'kills': 1, 'assists': 1, 'deaths': True},\n",
    "        'Reaper': {'kills': 1, 'assists': 1, 'deaths': False}\n",
    "    },\n",
    "    {\n",
    "        'Shadow': {'kills': 1, 'assists': 2, 'deaths': True},\n",
    "        'Blaze': {'kills': 0, 'assists': 1, 'deaths': False},\n",
    "        'Viper': {'kills': 2, 'assists': 0, 'deaths': True},\n",
    "        'Frost': {'kills': 1, 'assists': 1, 'deaths': False},\n",
    "        'Reaper': {'kills': 1, 'assists': 1, 'deaths': True}\n",
    "    }\n",
    "]"
   ]
  },
  {
   "cell_type": "markdown",
   "metadata": {},
   "source": [
    "## Ranking\n",
    "\n",
    "El ranking es un diccionario donde para cada jugador(claves) se tiene otro diccionario con cada una de sus estadisticas y sus valores(Todas se inicializan en 0)"
   ]
  },
  {
   "cell_type": "code",
   "execution_count": null,
   "metadata": {},
   "outputs": [],
   "source": [
    "#Se verifica que haya rondas\n",
    "if len(rounds) != 0:\n",
    "    ranking = dict((character,{'kills': 0, 'assists': 0, 'deaths': 0, 'MVPs': 0, 'points': 0}) for character in rounds[0].keys())"
   ]
  },
  {
   "cell_type": "markdown",
   "metadata": {},
   "source": [
    "## Función update_ranking\n",
    "\n",
    "La función update_ranking recibe como parámetros el ranking antes declarado y una ronda con la que actualiza dicho ranking. Tambien determina el MVP de la ronda y le suma 1 a su contador de MVPs.\n",
    "\n",
    "## Función print_ranking\n",
    "\n",
    "La funcion print_ranking muestra en consola el ranking en forma de tabla, donde para cada jugador muestra: kills, asistencias, muertes, cantidad de MVPs y puntos totales, ordenados en forma decreciente por puntos.\n",
    "\n",
    "# Resolución"
   ]
  },
  {
   "cell_type": "code",
   "execution_count": null,
   "metadata": {},
   "outputs": [],
   "source": [
    "if len(rounds) != 0:\n",
    "    # Simula cada ronda y muestra el ranking\n",
    "    for i in range(len(rounds)-1):\n",
    "        mvp = update_ranking(ranking,rounds[i])\n",
    "        print_ranking(ranking,f\"ronda {i+1}\")\n",
    "        print(f\"El MVP de la ronda {i+1} fue {mvp}\")\n",
    "    # Ronda final\n",
    "    mvp = update_ranking(ranking,rounds[-1])\n",
    "    print_ranking(ranking,\"final\")\n",
    "    print(f\"El MVP de la ronda final fue {mvp}\")"
   ]
  }
 ],
 "metadata": {
  "kernelspec": {
   "display_name": "venv",
   "language": "python",
   "name": "python3"
  },
  "language_info": {
   "codemirror_mode": {
    "name": "ipython",
    "version": 3
   },
   "file_extension": ".py",
   "mimetype": "text/x-python",
   "name": "python",
   "nbconvert_exporter": "python",
   "pygments_lexer": "ipython3",
   "version": "3.12.9"
  }
 },
 "nbformat": 4,
 "nbformat_minor": 2
}
